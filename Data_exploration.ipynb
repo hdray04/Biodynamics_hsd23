{
 "cells": [
  {
   "cell_type": "code",
   "execution_count": 2,
   "metadata": {},
   "outputs": [
    {
     "name": "stdout",
     "output_type": "stream",
     "text": [
      "=== C3D File Structure ===\n",
      "Top level keys: ['header', 'parameters', 'data']\n",
      "\n",
      "=== Data Structure ===\n",
      "Data keys: ['points', 'meta_points', 'analogs', 'rotations']\n",
      "points shape: (4, 20, 547)\n",
      "meta_points shape: No shape\n",
      "analogs shape: (1, 0, 0)\n",
      "rotations shape: (4, 4, 19, 547)\n",
      "\n",
      "=== Parameters Structure ===\n",
      "Parameter groups: ['POINT', 'ANALOG', 'FORCE_PLATFORM', 'MANUFACTURER', 'THEIA3D', 'PROCESSING', 'TRIAL', 'ROTATION', 'EVENT', 'DATA_BLOCKS', 'EZC3D']\n",
      "\n",
      "ANALOG parameters:\n",
      "  Labels: []\n",
      "\n",
      "ROTATION parameters:\n",
      "  Labels: ['worldbody_4X4', 'pelvis_4X4', 'l_thigh_4X4', 'l_shank_4X4', 'l_foot_4X4', 'l_toes_4X4', 'r_thigh_4X4', 'r_shank_4X4', 'r_foot_4X4', 'r_toes_4X4', 'head_4X4', 'torso_4X4', 'l_uarm_4X4', 'l_larm_4X4', 'l_hand_4X4', 'r_uarm_4X4', 'r_larm_4X4', 'r_hand_4X4', 'pelvis_shifted_4X4']\n",
      "\n",
      "=== Your Current Labels ===\n",
      "Labels source: ['worldbody_4X4', 'pelvis_4X4', 'l_thigh_4X4', 'l_shank_4X4', 'l_foot_4X4'] ...\n",
      "Total labels: 19\n"
     ]
    }
   ],
   "source": [
    "import ezc3d\n",
    "walk_2 = ezc3d.c3d(\"/Users/harrietdray/Biodynamics/Harriet_c3d/Walk-002/pose_filt_0.c3d\")\n",
    "hop_single = ezc3d.c3d(\"/Users/harrietdray/Biodynamics/Harriet_c3d/HopSingle-001/pose_filt_0.c3d\")\n",
    "cmj_3 = ezc3d.c3d(\"/Users/harrietdray/Biodynamics/Harriet_c3d/CMJ-003/pose_filt_0.c3d\")\n",
    "triple_hop_2 = ezc3d.c3d(\"/Users/harrietdray/Biodynamics/Harriet_c3d/HopTriple-002/pose_filt_0.c3d\")\n",
    "pistol_1 = ezc3d.c3d(\"/Users/harrietdray/Biodynamics/Harriet_c3d/Pistol-001/pose_filt_0.c3d\")\n",
    "pistol_2 = ezc3d.c3d(\"/Users/harrietdray/Biodynamics/Harriet_c3d/Pistol-002/pose_filt_0.c3d\")\n",
    "squat_2 = ezc3d.c3d(\"/Users/harrietdray/Biodynamics/Harriet_c3d/Squat001-000/pose_filt_0.c3d\")\n",
    "jog = ezc3d.c3d(\"/Users/harrietdray/Biodynamics/Harriet_c3d/Jog-001/pose_filt_0.c3d\")\n",
    "\n",
    "\n",
    "labels = squat_2['parameters']['ROTATION']['LABELS']['value'] # List of position/rotation names\n",
    "# Let's explore the structure of your C3D file\n",
    "\n",
    "\n",
    "print(\"=== C3D File Structure ===\")\n",
    "print(\"Top level keys:\", list(squat_2.keys()))\n",
    "\n",
    "print(\"\\n=== Data Structure ===\")\n",
    "if 'data' in squat_2:\n",
    "    print(\"Data keys:\", list(squat_2['data'].keys()))\n",
    "    \n",
    "    # Check each data type\n",
    "    for key in squat_2['data'].keys():\n",
    "        data = squat_2['data'][key]\n",
    "        print(f\"{key} shape: {data.shape if hasattr(data, 'shape') else 'No shape'}\")\n",
    "\n",
    "print(\"\\n=== Parameters Structure ===\")\n",
    "if 'parameters' in squat_2:\n",
    "    print(\"Parameter groups:\", list(squat_2['parameters'].keys()))\n",
    "    \n",
    "    # Look for rotation-related parameters\n",
    "    for group in squat_2['parameters'].keys():\n",
    "        if 'ROTATION' in group.upper() or 'ANALOG' in group.upper():\n",
    "            print(f\"\\n{group} parameters:\")\n",
    "            if 'LABELS' in squat_2['parameters'][group]:\n",
    "                labels_data = squat_2['parameters'][group]['LABELS']\n",
    "                print(f\"  Labels: {labels_data.get('value', 'No value key')}\")\n",
    "\n",
    "print(\"\\n=== Your Current Labels ===\")\n",
    "print(\"Labels source:\", squat_2['parameters']['ROTATION']['LABELS']['value'][:5], \"...\")\n",
    "print(\"Total labels:\", len(labels))"
   ]
  },
  {
   "cell_type": "code",
   "execution_count": 3,
   "metadata": {},
   "outputs": [
    {
     "name": "stdout",
     "output_type": "stream",
     "text": [
      "=== DEBUGGING ROTATION DATA STRUCTURE ===\n",
      "Rotation data shape: (4, 4, 19, 547)\n",
      "Data type: <class 'numpy.ndarray'>\n",
      "First 20 values of rotation_data[:, 0, 0]: [[1. 1. 1. ... 1. 1. 1.]\n",
      " [0. 0. 0. ... 0. 0. 0.]\n",
      " [0. 0. 0. ... 0. 0. 0.]\n",
      " [0. 0. 0. ... 0. 0. 0.]]\n",
      "Min value in rotation data: -279.69354248046875\n",
      "Max value in rotation data: 1482.078125\n",
      "\n",
      "Labels (first 10): ['worldbody_4X4', 'pelvis_4X4', 'l_thigh_4X4', 'l_shank_4X4', 'l_foot_4X4', 'l_toes_4X4', 'r_thigh_4X4', 'r_shank_4X4', 'r_foot_4X4', 'r_toes_4X4']\n",
      "Total labels: 19\n",
      "Shape breakdown:\n",
      "  Dimension 0 (should be 16 for 4x4 matrix): 4\n",
      "  Dimension 1 (frames): 4\n",
      "  Dimension 2 (joints): 19\n",
      "\n",
      "Single joint data size: 4\n",
      "This might represent 0.25 matrices of 4x4 each\n"
     ]
    }
   ],
   "source": [
    "# Let's debug the actual structure of your rotation data\n",
    "print(\"=== DEBUGGING ROTATION DATA STRUCTURE ===\")\n",
    "rotation_data = squat_2['data']['rotations']\n",
    "print(f\"Rotation data shape: {rotation_data.shape}\")\n",
    "print(f\"Data type: {type(rotation_data)}\")\n",
    "\n",
    "# Let's see what the first few values look like\n",
    "print(f\"First 20 values of rotation_data[:, 0, 0]: {rotation_data[:20, 0, 0]}\")\n",
    "\n",
    "# Check if the data might be stored differently\n",
    "print(f\"Min value in rotation data: {rotation_data.min()}\")\n",
    "print(f\"Max value in rotation data: {rotation_data.max()}\")\n",
    "\n",
    "# Let's look at the labels more carefully\n",
    "print(f\"\\nLabels (first 10): {labels[:10]}\")\n",
    "print(f\"Total labels: {len(labels)}\")\n",
    "\n",
    "# Let's try to understand the data better\n",
    "print(f\"Shape breakdown:\")\n",
    "print(f\"  Dimension 0 (should be 16 for 4x4 matrix): {rotation_data.shape[0]}\")\n",
    "print(f\"  Dimension 1 (frames): {rotation_data.shape[1]}\")  \n",
    "print(f\"  Dimension 2 (joints): {rotation_data.shape[2]}\")\n",
    "\n",
    "# The issue might be that it's not 16 elements per matrix\n",
    "# Let's check if each \"joint\" actually contains multiple matrices\n",
    "single_joint_data = rotation_data[:, 0, 0]  # All data for first joint, first frame\n",
    "print(f\"\\nSingle joint data size: {len(single_joint_data)}\")\n",
    "print(f\"This might represent {len(single_joint_data)/16} matrices of 4x4 each\")"
   ]
  },
  {
   "cell_type": "markdown",
   "metadata": {},
   "source": [
    "\n"
   ]
  }
 ],
 "metadata": {
  "kernelspec": {
   "display_name": "base",
   "language": "python",
   "name": "python3"
  },
  "language_info": {
   "codemirror_mode": {
    "name": "ipython",
    "version": 3
   },
   "file_extension": ".py",
   "mimetype": "text/x-python",
   "name": "python",
   "nbconvert_exporter": "python",
   "pygments_lexer": "ipython3",
   "version": "3.11.7"
  }
 },
 "nbformat": 4,
 "nbformat_minor": 2
}
