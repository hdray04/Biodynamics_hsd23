{
 "cells": [
  {
   "cell_type": "code",
   "execution_count": 1,
   "metadata": {},
   "outputs": [],
   "source": [
    "import ezc3d\n",
    "walk_2 = ezc3d.c3d(\"/Users/harrietdray/Biodynamics/Harriet_c3d/Walk-002/pose_filt_0.c3d\")\n",
    "hop_single = ezc3d.c3d(\"/Users/harrietdray/Biodynamics/Harriet_c3d/HopSingle-001/pose_filt_0.c3d\")\n",
    "cmj_3 = ezc3d.c3d(\"/Users/harrietdray/Biodynamics/Harriet_c3d/CMJ-003/pose_filt_0.c3d\")\n",
    "triple_hop_2 = ezc3d.c3d(\"/Users/harrietdray/Biodynamics/Harriet_c3d/HopTriple-002/pose_filt_0.c3d\")\n",
    "pistol_1 = ezc3d.c3d(\"/Users/harrietdray/Biodynamics/Harriet_c3d/Pistol-001/pose_filt_0.c3d\")\n",
    "pistol_2 = ezc3d.c3d(\"/Users/harrietdray/Biodynamics/Harriet_c3d/Pistol-002/pose_filt_0.c3d\")\n",
    "squat_2 = ezc3d.c3d(\"/Users/harrietdray/Biodynamics/Harriet_c3d/Squat001-000/pose_filt_0.c3d\")\n",
    "jog = ezc3d.c3d(\"/Users/harrietdray/Biodynamics/Harriet_c3d/Jog-001/pose_filt_0.c3d\")\n",
    "\n",
    "\n",
    "\n",
    "import matplotlib.pyplot as plt\n",
    "\n",
    "labels = squat_2['parameters']['POINT']['LABELS']['value'] # List of angle names\n",
    "labels2 = squat_2['parameters']['ROTATION']['LABELS']['value'] # List of position/rotation names\n"
   ]
  },
  {
   "cell_type": "code",
   "execution_count": null,
   "metadata": {},
   "outputs": [],
   "source": []
  }
 ],
 "metadata": {
  "kernelspec": {
   "display_name": "base",
   "language": "python",
   "name": "python3"
  },
  "language_info": {
   "codemirror_mode": {
    "name": "ipython",
    "version": 3
   },
   "file_extension": ".py",
   "mimetype": "text/x-python",
   "name": "python",
   "nbconvert_exporter": "python",
   "pygments_lexer": "ipython3",
   "version": "3.11.7"
  }
 },
 "nbformat": 4,
 "nbformat_minor": 2
}
