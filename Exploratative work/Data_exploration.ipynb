{
 "cells": [
  {
   "cell_type": "code",
   "execution_count": 2,
   "metadata": {},
   "outputs": [
    {
     "ename": "KeyError",
     "evalue": "'ROTATION'",
     "output_type": "error",
     "traceback": [
      "\u001b[0;31m---------------------------------------------------------------------------\u001b[0m",
      "\u001b[0;31mKeyError\u001b[0m                                  Traceback (most recent call last)",
      "Cell \u001b[0;32mIn[2], line 6\u001b[0m\n\u001b[1;32m      3\u001b[0m cmj_2 \u001b[38;5;241m=\u001b[39m ezc3d\u001b[38;5;241m.\u001b[39mc3d(\u001b[38;5;124m\"\u001b[39m\u001b[38;5;124m/Users/harrietdray/Baseline/Tash_CMJ2.c3d\u001b[39m\u001b[38;5;124m\"\u001b[39m)\n\u001b[1;32m      4\u001b[0m cmj_3 \u001b[38;5;241m=\u001b[39m ezc3d\u001b[38;5;241m.\u001b[39mc3d(\u001b[38;5;124m\"\u001b[39m\u001b[38;5;124m/Users/harrietdray/Baseline/Tash_CMJ3.c3d\u001b[39m\u001b[38;5;124m\"\u001b[39m)\n\u001b[0;32m----> 6\u001b[0m labels \u001b[38;5;241m=\u001b[39m cmj_1[\u001b[38;5;124m'\u001b[39m\u001b[38;5;124mparameters\u001b[39m\u001b[38;5;124m'\u001b[39m][\u001b[38;5;124m'\u001b[39m\u001b[38;5;124mROTATION\u001b[39m\u001b[38;5;124m'\u001b[39m][\u001b[38;5;124m'\u001b[39m\u001b[38;5;124mLABELS\u001b[39m\u001b[38;5;124m'\u001b[39m][\u001b[38;5;124m'\u001b[39m\u001b[38;5;124mvalue\u001b[39m\u001b[38;5;124m'\u001b[39m] \u001b[38;5;66;03m# List of position/rotation names\u001b[39;00m\n\u001b[1;32m      7\u001b[0m \u001b[38;5;66;03m# Let's explore the structure of your C3D file\u001b[39;00m\n\u001b[1;32m     10\u001b[0m \u001b[38;5;28mprint\u001b[39m(\u001b[38;5;124m\"\u001b[39m\u001b[38;5;124m=== C3D File Structure ===\u001b[39m\u001b[38;5;124m\"\u001b[39m)\n",
      "File \u001b[0;32m/opt/anaconda3/lib/python3.11/site-packages/ezc3d/__init__.py:23\u001b[0m, in \u001b[0;36mC3dMapper.__getitem__\u001b[0;34m(self, key)\u001b[0m\n\u001b[1;32m     22\u001b[0m \u001b[38;5;28;01mdef\u001b[39;00m \u001b[38;5;21m__getitem__\u001b[39m(\u001b[38;5;28mself\u001b[39m, key):\n\u001b[0;32m---> 23\u001b[0m     \u001b[38;5;28;01mreturn\u001b[39;00m \u001b[38;5;28mself\u001b[39m\u001b[38;5;241m.\u001b[39m_storage[key]\n",
      "\u001b[0;31mKeyError\u001b[0m: 'ROTATION'"
     ]
    }
   ],
   "source": [
    "import ezc3d\n",
    "cmj_1 = ezc3d.c3d(\"/Users/harrietdray/Baseline/Tash_CMJ1.c3d\")\n",
    "cmj_2 = ezc3d.c3d(\"/Users/harrietdray/Baseline/Tash_CMJ2.c3d\")\n",
    "cmj_3 = ezc3d.c3d(\"/Users/harrietdray/Baseline/Tash_CMJ3.c3d\")\n",
    "\n",
    "labels = cmj_1['parameters']['ROTATION']['LABELS']['value'] # List of position/rotation names\n",
    "# Let's explore the structure of your C3D file\n",
    "\n",
    "\n",
    "print(\"=== C3D File Structure ===\")\n",
    "print(\"Top level keys:\", list(cmj_1.keys()))\n",
    "\n",
    "print(\"\\n=== Data Structure ===\")\n",
    "if 'data' in cmj_1:\n",
    "    print(\"Data keys:\", list(cmj_1['data'].keys()))\n",
    "\n",
    "    # Check each data type\n",
    "    for key in cmj_1['data'].keys():\n",
    "        data = cmj_1['data'][key]\n",
    "        print(f\"{key} shape: {data.shape if hasattr(data, 'shape') else 'No shape'}\")\n",
    "\n",
    "print(\"\\n=== Parameters Structure ===\")\n",
    "if 'parameters' in cmj_1:\n",
    "    print(\"Parameter groups:\", list(cmj_1['parameters'].keys()))\n",
    "    \n",
    "    # Look for rotation-related parameters\n",
    "    for group in cmj_1['parameters'].keys():\n",
    "        if 'ROTATION' in group.upper() or 'ANALOG' in group.upper():\n",
    "            print(f\"\\n{group} parameters:\")\n",
    "            if 'LABELS' in cmj_1['parameters'][group]:\n",
    "                labels_data = cmj_1['parameters'][group]['LABELS']\n",
    "                print(f\"  Labels: {labels_data.get('value', 'No value key')}\")\n",
    "\n",
    "print(\"\\n=== Your Current Labels ===\")\n",
    "print(\"Labels source:\", cmj_1['parameters']['ROTATION']['LABELS']['value'][:5], \"...\")\n",
    "print(\"Total labels:\", len(labels))"
   ]
  },
  {
   "cell_type": "code",
   "execution_count": 4,
   "metadata": {},
   "outputs": [
    {
     "name": "stdout",
     "output_type": "stream",
     "text": [
      "Groups: ['TRIAL', 'SUBJECTS', 'POINT', 'ANALOG', 'FORCE_PLATFORM', 'EVENT_CONTEXT', 'EVENT', 'MANUFACTURER', 'ANALYSIS', 'PROCESSING']\n",
      "POINT labels: 135  ANALOG labels: 56\n",
      "POINT data shape: (4, 135, 814)\n",
      "ANALOG data shape: (1, 56, 4070)\n",
      "Angle POINT idx+labels: [(64, 'LHipAngles'), (65, 'LKneeAngles'), (66, 'LAnkleAngles'), (67, 'LForeFootAngles'), (68, 'RHipAngles'), (69, 'RKneeAngles'), (70, 'RAnkleAngles'), (71, 'RForeFootAngles'), (72, 'LShoulderAngles'), (73, 'LNeckAngles'), (74, 'RShoulderAngles'), (75, 'LFootProgressAngles'), (76, 'RFootProgressAngles'), (77, 'LPelvisAngles'), (78, 'RPelvisAngles')]\n",
      "Angle ANALOG idx+labels: []\n",
      "POINT angle sample: [5.78662014 5.78038931 5.80727005 5.80916977 5.83304977 5.79849005\n",
      " 5.7392602  5.75094986 5.76609993 5.80551004]\n"
     ]
    }
   ],
   "source": [
    "import ezc3d, re\n",
    "\n",
    "c3d = ezc3d.c3d(\"/Users/harrietdray/Baseline/Tash_CMJ1.c3d\")\n",
    "\n",
    "# 1) What groups are present?\n",
    "print(\"Groups:\", list(c3d['parameters'].keys()))\n",
    "\n",
    "# 2) Common label locations\n",
    "point_labels  = c3d['parameters'].get('POINT', {}).get('LABELS', {}).get('value', [])\n",
    "analog_labels = c3d['parameters'].get('ANALOG', {}).get('LABELS', {}).get('value', [])\n",
    "print(f\"POINT labels: {len(point_labels)}  ANALOG labels: {len(analog_labels)}\")\n",
    "\n",
    "# 3) Shapes\n",
    "print(\"POINT data shape:\", c3d['data']['points'].shape)   # (4, n_points, n_frames)\n",
    "print(\"ANALOG data shape:\", c3d['data']['analogs'].shape) # (n_subframes, n_analog, n_frames)\n",
    "\n",
    "# 4) Find likely angle channels (case-insensitive)\n",
    "angle_pat = re.compile(r'angle|rot', re.I)\n",
    "angle_point_idx  = [i for i,l in enumerate(point_labels)  if angle_pat.search(l)]\n",
    "angle_analog_idx = [i for i,l in enumerate(analog_labels) if angle_pat.search(l)]\n",
    "print(\"Angle POINT idx+labels:\",  [(i, point_labels[i])  for i in angle_point_idx][:20])\n",
    "print(\"Angle ANALOG idx+labels:\", [(i, analog_labels[i]) for i in angle_analog_idx][:20])\n",
    "\n",
    "# 5) Access by index\n",
    "points = c3d['data']['points']    # 4 x n_points x n_frames\n",
    "analogs = c3d['data']['analogs']  # n_subframes x n_analog x n_frames\n",
    "\n",
    "# Example: get first angle from POINTS (if any). Values are in mm for markers; for model outputs units may vary.\n",
    "if angle_point_idx:\n",
    "    i = angle_point_idx[0]\n",
    "    angle_point_series = points[0, i, :]  # X row (models may store angles per axis as separate points)\n",
    "    print(\"POINT angle sample:\", angle_point_series[:10])\n",
    "\n",
    "# Example: get first angle from ANALOGS (common for Nexus-exported joint angles in deg)\n",
    "if angle_analog_idx:\n",
    "    j = angle_analog_idx[0]\n",
    "    angle_analog_series = analogs[:, j, :].reshape(-1)  # flatten subframes\n",
    "    print(\"ANALOG angle sample:\", angle_analog_series[:20])"
   ]
  },
  {
   "cell_type": "code",
   "execution_count": 3,
   "metadata": {},
   "outputs": [
    {
     "name": "stdout",
     "output_type": "stream",
     "text": [
      "=== DEBUGGING ROTATION DATA STRUCTURE ===\n",
      "Rotation data shape: (4, 4, 0, 0)\n",
      "Data type: <class 'numpy.ndarray'>\n"
     ]
    },
    {
     "ename": "IndexError",
     "evalue": "index 0 is out of bounds for axis 2 with size 0",
     "output_type": "error",
     "traceback": [
      "\u001b[0;31m---------------------------------------------------------------------------\u001b[0m",
      "\u001b[0;31mIndexError\u001b[0m                                Traceback (most recent call last)",
      "Cell \u001b[0;32mIn[3], line 8\u001b[0m\n\u001b[1;32m      5\u001b[0m \u001b[38;5;28mprint\u001b[39m(\u001b[38;5;124mf\u001b[39m\u001b[38;5;124m\"\u001b[39m\u001b[38;5;124mData type: \u001b[39m\u001b[38;5;132;01m{\u001b[39;00m\u001b[38;5;28mtype\u001b[39m(rotation_data)\u001b[38;5;132;01m}\u001b[39;00m\u001b[38;5;124m\"\u001b[39m)\n\u001b[1;32m      7\u001b[0m \u001b[38;5;66;03m# Let's see what the first few values look like\u001b[39;00m\n\u001b[0;32m----> 8\u001b[0m \u001b[38;5;28mprint\u001b[39m(\u001b[38;5;124mf\u001b[39m\u001b[38;5;124m\"\u001b[39m\u001b[38;5;124mFirst 20 values of rotation_data[:, 0, 0]: \u001b[39m\u001b[38;5;132;01m{\u001b[39;00mrotation_data[:\u001b[38;5;241m20\u001b[39m,\u001b[38;5;250m \u001b[39m\u001b[38;5;241m0\u001b[39m,\u001b[38;5;250m \u001b[39m\u001b[38;5;241m0\u001b[39m]\u001b[38;5;132;01m}\u001b[39;00m\u001b[38;5;124m\"\u001b[39m)\n\u001b[1;32m     10\u001b[0m \u001b[38;5;66;03m# Check if the data might be stored differently\u001b[39;00m\n\u001b[1;32m     11\u001b[0m \u001b[38;5;28mprint\u001b[39m(\u001b[38;5;124mf\u001b[39m\u001b[38;5;124m\"\u001b[39m\u001b[38;5;124mMin value in rotation data: \u001b[39m\u001b[38;5;132;01m{\u001b[39;00mrotation_data\u001b[38;5;241m.\u001b[39mmin()\u001b[38;5;132;01m}\u001b[39;00m\u001b[38;5;124m\"\u001b[39m)\n",
      "\u001b[0;31mIndexError\u001b[0m: index 0 is out of bounds for axis 2 with size 0"
     ]
    }
   ],
   "source": [
    "# Let's debug the actual structure of your rotation data\n",
    "print(\"=== DEBUGGING ROTATION DATA STRUCTURE ===\")\n",
    "rotation_data = cmj_1['data']['rotations']\n",
    "print(f\"Rotation data shape: {rotation_data.shape}\")\n",
    "print(f\"Data type: {type(rotation_data)}\")\n",
    "\n",
    "# Let's see what the first few values look like\n",
    "print(f\"First 20 values of rotation_data[:, 0, 0]: {rotation_data[:20, 0, 0]}\")\n",
    "\n",
    "# Check if the data might be stored differently\n",
    "print(f\"Min value in rotation data: {rotation_data.min()}\")\n",
    "print(f\"Max value in rotation data: {rotation_data.max()}\")\n",
    "\n",
    "# Let's look at the labels more carefully\n",
    "print(f\"\\nLabels (first 10): {labels[:10]}\")\n",
    "print(f\"Total labels: {len(labels)}\")\n",
    "\n",
    "# Let's try to understand the data better\n",
    "print(f\"Shape breakdown:\")\n",
    "print(f\"  Dimension 0 (should be 16 for 4x4 matrix): {rotation_data.shape[0]}\")\n",
    "print(f\"  Dimension 1 (frames): {rotation_data.shape[1]}\")  \n",
    "print(f\"  Dimension 2 (joints): {rotation_data.shape[2]}\")\n",
    "\n",
    "# The issue might be that it's not 16 elements per matrix\n",
    "# Let's check if each \"joint\" actually contains multiple matrices\n",
    "single_joint_data = rotation_data[:, 0, 0]  # All data for first joint, first frame\n",
    "print(f\"\\nSingle joint data size: {len(single_joint_data)}\")\n",
    "print(f\"This might represent {len(single_joint_data)/16} matrices of 4x4 each\")"
   ]
  },
  {
   "cell_type": "markdown",
   "metadata": {},
   "source": [
    "\n"
   ]
  }
 ],
 "metadata": {
  "kernelspec": {
   "display_name": "base",
   "language": "python",
   "name": "python3"
  },
  "language_info": {
   "codemirror_mode": {
    "name": "ipython",
    "version": 3
   },
   "file_extension": ".py",
   "mimetype": "text/x-python",
   "name": "python",
   "nbconvert_exporter": "python",
   "pygments_lexer": "ipython3",
   "version": "3.11.7"
  }
 },
 "nbformat": 4,
 "nbformat_minor": 2
}
